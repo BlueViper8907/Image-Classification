{
 "cells": [
  {
   "cell_type": "code",
   "execution_count": 4,
   "metadata": {
    "scrolled": true
   },
   "outputs": [],
   "source": [
    "import pandas as pd\n",
    "import os\n",
    "import shutil\n",
    "from sklearn.model_selection import train_test_split"
   ]
  },
  {
   "cell_type": "code",
   "execution_count": 2,
   "metadata": {},
   "outputs": [
    {
     "ename": "FileExistsError",
     "evalue": "[WinError 183] Cannot create a file when that file already exists: 'C:\\\\Users\\\\c_fre\\\\Learn.co\\\\Module_4_Project\\\\Image-Classification\\\\chest_xray\\\\train'",
     "output_type": "error",
     "traceback": [
      "\u001b[1;31m---------------------------------------------------------------------------\u001b[0m",
      "\u001b[1;31mFileExistsError\u001b[0m                           Traceback (most recent call last)",
      "\u001b[1;32m<ipython-input-2-c3a15d117621>\u001b[0m in \u001b[0;36m<module>\u001b[1;34m\u001b[0m\n\u001b[0;32m      4\u001b[0m \u001b[1;31m#Train Directory\u001b[0m\u001b[1;33m\u001b[0m\u001b[1;33m\u001b[0m\u001b[1;33m\u001b[0m\u001b[0m\n\u001b[0;32m      5\u001b[0m \u001b[0mtrain_path\u001b[0m \u001b[1;33m=\u001b[0m \u001b[0mos\u001b[0m\u001b[1;33m.\u001b[0m\u001b[0mpath\u001b[0m\u001b[1;33m.\u001b[0m\u001b[0mjoin\u001b[0m\u001b[1;33m(\u001b[0m\u001b[0mhome_path\u001b[0m\u001b[1;33m,\u001b[0m\u001b[1;34m'train'\u001b[0m\u001b[1;33m)\u001b[0m\u001b[1;33m\u001b[0m\u001b[1;33m\u001b[0m\u001b[0m\n\u001b[1;32m----> 6\u001b[1;33m \u001b[0mos\u001b[0m\u001b[1;33m.\u001b[0m\u001b[0mmkdir\u001b[0m\u001b[1;33m(\u001b[0m\u001b[0mtrain_path\u001b[0m\u001b[1;33m)\u001b[0m\u001b[1;33m\u001b[0m\u001b[1;33m\u001b[0m\u001b[0m\n\u001b[0m\u001b[0;32m      7\u001b[0m \u001b[1;33m\u001b[0m\u001b[0m\n\u001b[0;32m      8\u001b[0m \u001b[1;31m#Validation Directory\u001b[0m\u001b[1;33m\u001b[0m\u001b[1;33m\u001b[0m\u001b[1;33m\u001b[0m\u001b[0m\n",
      "\u001b[1;31mFileExistsError\u001b[0m: [WinError 183] Cannot create a file when that file already exists: 'C:\\\\Users\\\\c_fre\\\\Learn.co\\\\Module_4_Project\\\\Image-Classification\\\\chest_xray\\\\train'"
     ]
    }
   ],
   "source": [
    "#Home Directory\n",
    "home_path = r'C:\\Users\\c_fre\\Learn.co\\Module_4_Project\\Image-Classification\\chest_xray'\n",
    "\n",
    "#Train Directory\n",
    "train_path = os.path.join(home_path,'train')\n",
    "os.mkdir(train_path)\n",
    "\n",
    "#Validation Directory\n",
    "val_path = os.path.join(home_path,'val')\n",
    "os.mkdir(val_path)\n",
    "\n",
    "#Train Subdirectories\n",
    "normal_train_path = os.path.join(home_path + r'/train','NORMAL')\n",
    "os.mkdir(normal_train_path)\n",
    "\n",
    "pneumonia_train_path = os.path.join(home_path + r'/train','PNEUMONIA')\n",
    "os.mkdir(pneumonia_train_path)\n",
    "\n",
    "#Validation Subdirectories\n",
    "normal_val_path = os.path.join(home_path + r'val','NORMAL')\n",
    "os.mkdir(normal_val_path)\n",
    "\n",
    "pneumonia_val_path = os.path.join(home_path + r'val','PNEUMONIA')\n",
    "os.mkdir(pneumonia_val_path)"
   ]
  },
  {
   "cell_type": "code",
   "execution_count": null,
   "metadata": {},
   "outputs": [],
   "source": [
    "#Create Pathway to access data\n",
    "main_dir = '../Image-Classification/chest_xray/'\n",
    "train_dir = main_dir + \"train/\"\n",
    "val_dir = main_dir + \"val/\"\n",
    "test_dir = main_dir + \"test/\"\n",
    "\n",
    "#Observe Contents\n",
    "print('Directory Contents:',os.listdir(main_dir))\n",
    "print('train Contents:',os.listdir(train_dir))\n",
    "print('val Contents:',os.listdir(val_dir))\n",
    "print('test Contents:',os.listdir(val_dir))"
   ]
  },
  {
   "cell_type": "code",
   "execution_count": null,
   "metadata": {},
   "outputs": [],
   "source": [
    "#Train dataset for Normal and Pneumonia\n",
    "train_normal = train_dir + 'Normal/'\n",
    "train_pneumonia = train_dir + 'Pneumonia/'\n",
    "\n",
    "print(\"Number of cases in Training:\",len(os.listdir(train_normal)) +len(os.listdir(train_pneumonia)))\n",
    "\n",
    "print(\"Number of Pneumonia cases in Training:\",len(os.listdir(train_pneumonia)))\n",
    "\n",
    "print(\"Number of Normal cases in Training:\",len(os.listdir(train_normal)))"
   ]
  },
  {
   "cell_type": "code",
   "execution_count": null,
   "metadata": {},
   "outputs": [],
   "source": [
    "#Validation dataset for Normal and Pneumonia\n",
    "val_normal = val_dir + 'Normal/'\n",
    "val_pneumonia = val_dir + 'Pneumonia/'\n",
    "\n",
    "print(\"Number of cases in Validation:\",len(os.listdir(val_normal)) +len(os.listdir(val_pneumonia)))\n",
    "\n",
    "print(\"Number of Pneumonia cases in Validation:\",len(os.listdir(val_pneumonia)))\n",
    "\n",
    "print(\"Number of Normal cases in Validation:\",len(os.listdir(val_normal)))"
   ]
  },
  {
   "cell_type": "code",
   "execution_count": null,
   "metadata": {},
   "outputs": [],
   "source": [
    "#Test dataset for Normal and Pneumonia\n",
    "test_normal = test_dir + 'Normal/'\n",
    "test_pneumonia = test_dir + 'Pneumonia/'\n",
    "\n",
    "print(\"Number of cases in Test:\",len(os.listdir(test_normal)) +len(os.listdir(test_pneumonia)))\n",
    "\n",
    "print(\"Number of Pneumonia cases in Test:\",len(os.listdir(test_pneumonia)))\n",
    "\n",
    "print(\"Number of Normal cases in Test:\",len(os.listdir(test_normal)))"
   ]
  },
  {
   "cell_type": "code",
   "execution_count": null,
   "metadata": {},
   "outputs": [],
   "source": [
    "#Total number of Normal Cases\n",
    "print(\"Total number of Normal cases:\",\n",
    "      len(os.listdir(test_normal))+\n",
    "      len(os.listdir(train_normal))+\n",
    "      len(os.listdir(val_normal)))\n",
    "\n",
    "#Total number of Pneumonia Cases\n",
    "print(\"Total number of Pneumonia cases:\",\n",
    "      len(os.listdir(test_pneumonia))+\n",
    "      len(os.listdir(train_pneumonia))+\n",
    "      len(os.listdir(val_pneumonia)))"
   ]
  },
  {
   "cell_type": "code",
   "execution_count": null,
   "metadata": {},
   "outputs": [],
   "source": [
    "dataset = keras.preprocessing.image_dataset_from_directory(\n",
    "    '../Image-Classification/chest_xray/')\n",
    "\n"
   ]
  },
  {
   "cell_type": "code",
   "execution_count": null,
   "metadata": {},
   "outputs": [],
   "source": [
    "train_dir = ImageDataGenerator(rescale=1./255,\n",
    "                              zoom_range=0.3, vertical_flip=True)\n",
    "test_dir = ImageDataGenerator(rescale=1./255)"
   ]
  },
  {
   "cell_type": "code",
   "execution_count": null,
   "metadata": {},
   "outputs": [],
   "source": [
    "img_dims = 150\n",
    "epochs = 10\n",
    "batch_size = 64"
   ]
  },
  {
   "cell_type": "code",
   "execution_count": null,
   "metadata": {},
   "outputs": [],
   "source": []
  }
 ],
 "metadata": {
  "kernelspec": {
   "display_name": "Python [conda env:learn-env] *",
   "language": "python",
   "name": "conda-env-learn-env-py"
  },
  "language_info": {
   "codemirror_mode": {
    "name": "ipython",
    "version": 3
   },
   "file_extension": ".py",
   "mimetype": "text/x-python",
   "name": "python",
   "nbconvert_exporter": "python",
   "pygments_lexer": "ipython3",
   "version": "3.6.9"
  },
  "toc": {
   "base_numbering": 1,
   "nav_menu": {},
   "number_sections": true,
   "sideBar": true,
   "skip_h1_title": false,
   "title_cell": "Table of Contents",
   "title_sidebar": "Contents",
   "toc_cell": false,
   "toc_position": {},
   "toc_section_display": true,
   "toc_window_display": false
  }
 },
 "nbformat": 4,
 "nbformat_minor": 2
}
