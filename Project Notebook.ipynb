{
 "cells": [
  {
   "cell_type": "markdown",
   "metadata": {},
   "source": [
    "## Table Of Contents\n",
    "<font size=3rem>\n",
    "    \n",
    "0 -**[ INTRO](#INTRODUCTION)<br>**\n",
    "1 -**[ OBTAIN](#OBTAIN)**<br>\n",
    "2 -**[ PREPROCESSING](#PREPROCESSING)**<br>\n",
    "4 -**[ MODEL](#MODEL)**<br>\n",
    "5 -**[ INTERPRET](#INTERPRET)**<br>\n",
    "6 -**[ CONCLUSIONS & RECCOMENDATIONS](#Conclusions-&-Recommendations)<br>**\n",
    "</font>\n",
    "___"
   ]
  },
  {
   "cell_type": "markdown",
   "metadata": {},
   "source": [
    "# INTRODUCTION"
   ]
  },
  {
   "cell_type": "markdown",
   "metadata": {},
   "source": [
    "- Student: Cody Freese\n",
    "- Pace: Self Paced\n",
    "- Jeff Herman"
   ]
  },
  {
   "cell_type": "markdown",
   "metadata": {},
   "source": [
    "- Pneumonia Chest Xray Image Classification\n",
    "    - Objective\n",
    "        - First I need to decide on:\n",
    "            - Accuracy\n",
    "            - Precision\n",
    "            - Recall\n",
    "            - F1 Score\n",
    "        - Priority\n",
    "            - (1) Do not want to tell a sick person they are healthy\n",
    "            \n",
    "            - (2) Accurately identify pneumonia\n",
    "            - (3) Tell healthy person they are sick"
   ]
  },
  {
   "cell_type": "markdown",
   "metadata": {},
   "source": [
    "## Import Tools"
   ]
  },
  {
   "cell_type": "code",
   "execution_count": 28,
   "metadata": {
    "scrolled": true
   },
   "outputs": [],
   "source": [
    "import pandas as pd\n",
    "import os\n",
    "import tensorflow as tf\n",
    "from tensorflow import keras\n",
    "import matplotlib.pyplot as plt\n",
    "%matplotlib inline"
   ]
  },
  {
   "cell_type": "markdown",
   "metadata": {},
   "source": [
    "# OBTAIN"
   ]
  },
  {
   "cell_type": "code",
   "execution_count": 12,
   "metadata": {},
   "outputs": [],
   "source": [
    "# #Home Directory\n",
    "# home_path = r'C:\\Users\\c_fre\\Learn.co\\Module_4_Project\\Image-Classification\\chest_xray'\n",
    "\n",
    "# #Train Directory\n",
    "# train_path = os.path.join(home_path,'train')\n",
    "# os.mkdir(train_path)\n",
    "\n",
    "# #Validation Directory\n",
    "# val_path = os.path.join(home_path,'val')\n",
    "# os.mkdir(val_path)\n",
    "\n",
    "# #Train Subdirectories\n",
    "# normal_train_path = os.path.join(home_path + r'/train','NORMAL')\n",
    "# os.mkdir(normal_train_path)\n",
    "\n",
    "# pneumonia_train_path = os.path.join(home_path + r'/train','PNEUMONIA')\n",
    "# os.mkdir(pneumonia_train_path)\n",
    "\n",
    "# #Validation Subdirectories\n",
    "# normal_val_path = os.path.join(home_path + r'val','NORMAL')\n",
    "# os.mkdir(normal_val_path)\n",
    "\n",
    "# pneumonia_val_path = os.path.join(home_path + r'val','PNEUMONIA')\n",
    "# os.mkdir(pneumonia_val_path)"
   ]
  },
  {
   "cell_type": "code",
   "execution_count": 15,
   "metadata": {},
   "outputs": [],
   "source": [
    "#Home Directory\n",
    "home_path = r'C:\\Users\\c_fre\\Learn.co\\Module_4_Project\\Image-Classification\\chest_xray'\n",
    "\n",
    "#Train Directory\n",
    "try:\n",
    "    train_path = os.path.join(home_path,'train')\n",
    "    os.mkdir(train_path)\n",
    "except FileExistsError:\n",
    "    pass\n",
    "\n",
    "#Validation Directory\n",
    "try:\n",
    "    val_path = os.path.join(home_path,'val')\n",
    "    os.mkdir(val_path)\n",
    "except FileExistsError:\n",
    "    pass\n",
    "\n",
    "#Train Subdirectories\n",
    "try:\n",
    "    normal_train_path = os.path.join(home_path + r'/train','NORMAL')\n",
    "    os.mkdir(normal_train_path)\n",
    "except FileExistsError:\n",
    "    pass\n",
    "\n",
    "try:\n",
    "    pneumonia_train_path = os.path.join(home_path + r'/train','PNEUMONIA')\n",
    "    os.mkdir(pneumonia_train_path)\n",
    "except FileExistsError:\n",
    "    pass\n",
    "\n",
    "#Validation Subdirectories\n",
    "try:\n",
    "    normal_val_path = os.path.join(home_path + r'/val','NORMAL')\n",
    "    os.mkdir(normal_val_path)\n",
    "except FileExistsError:\n",
    "    pass\n",
    "\n",
    "try:\n",
    "    pneumonia_val_path = os.path.join(home_path + r'/val','PNEUMONIA')\n",
    "    os.mkdir(pneumonia_val_path)\n",
    "except FileExistsError:\n",
    "    pass"
   ]
  },
  {
   "cell_type": "code",
   "execution_count": 16,
   "metadata": {},
   "outputs": [
    {
     "name": "stdout",
     "output_type": "stream",
     "text": [
      "Directory Contents: ['test', 'train', 'val']\n",
      "train Contents: ['NORMAL', 'PNEUMONIA']\n",
      "val Contents: ['NORMAL', 'PNEUMONIA']\n",
      "test Contents: ['NORMAL', 'PNEUMONIA']\n"
     ]
    }
   ],
   "source": [
    "# #Create Pathway to access data\n",
    "main_dir = '../Image-Classification/chest_xray/'\n",
    "train_dir = main_dir + \"train/\"\n",
    "val_dir = main_dir + \"val/\"\n",
    "test_dir = main_dir + \"test/\"\n",
    "\n",
    "# #Observe Contents\n",
    "print('Directory Contents:',os.listdir(main_dir))\n",
    "print('train Contents:',os.listdir(train_dir))\n",
    "print('val Contents:',os.listdir(val_dir))\n",
    "print('test Contents:',os.listdir(val_dir))"
   ]
  },
  {
   "cell_type": "code",
   "execution_count": 17,
   "metadata": {},
   "outputs": [
    {
     "name": "stdout",
     "output_type": "stream",
     "text": [
      "Number of cases in Training: 5216\n",
      "Number of Pneumonia cases in Training: 3875\n",
      "Number of Normal cases in Training: 1341\n"
     ]
    }
   ],
   "source": [
    "# #Train dataset for Normal and Pneumonia\n",
    "train_normal = train_dir + 'Normal/'\n",
    "train_pneumonia = train_dir + 'Pneumonia/'\n",
    "\n",
    "print(\"Number of cases in Training:\",len(os.listdir(train_normal)) +len(os.listdir(train_pneumonia)))\n",
    "\n",
    "print(\"Number of Pneumonia cases in Training:\",len(os.listdir(train_pneumonia)))\n",
    "\n",
    "print(\"Number of Normal cases in Training:\",len(os.listdir(train_normal)))"
   ]
  },
  {
   "cell_type": "code",
   "execution_count": 18,
   "metadata": {},
   "outputs": [
    {
     "name": "stdout",
     "output_type": "stream",
     "text": [
      "Number of cases in Validation: 16\n",
      "Number of Pneumonia cases in Validation: 8\n",
      "Number of Normal cases in Validation: 8\n"
     ]
    }
   ],
   "source": [
    "# #Validation dataset for Normal and Pneumonia\n",
    "val_normal = val_dir + 'Normal/'\n",
    "val_pneumonia = val_dir + 'Pneumonia/'\n",
    "\n",
    "print(\"Number of cases in Validation:\",len(os.listdir(val_normal)) +len(os.listdir(val_pneumonia)))\n",
    "\n",
    "print(\"Number of Pneumonia cases in Validation:\",len(os.listdir(val_pneumonia)))\n",
    "\n",
    "print(\"Number of Normal cases in Validation:\",len(os.listdir(val_normal)))"
   ]
  },
  {
   "cell_type": "code",
   "execution_count": 19,
   "metadata": {},
   "outputs": [
    {
     "name": "stdout",
     "output_type": "stream",
     "text": [
      "Number of cases in Test: 624\n",
      "Number of Pneumonia cases in Test: 390\n",
      "Number of Normal cases in Test: 234\n"
     ]
    }
   ],
   "source": [
    "# #Test dataset for Normal and Pneumonia\n",
    "test_normal = test_dir + 'Normal/'\n",
    "test_pneumonia = test_dir + 'Pneumonia/'\n",
    "\n",
    "print(\"Number of cases in Test:\",len(os.listdir(test_normal)) +len(os.listdir(test_pneumonia)))\n",
    "\n",
    "print(\"Number of Pneumonia cases in Test:\",len(os.listdir(test_pneumonia)))\n",
    "\n",
    "print(\"Number of Normal cases in Test:\",len(os.listdir(test_normal)))"
   ]
  },
  {
   "cell_type": "code",
   "execution_count": 20,
   "metadata": {},
   "outputs": [
    {
     "name": "stdout",
     "output_type": "stream",
     "text": [
      "Total number of Normal cases: 1583\n",
      "Total number of Pneumonia cases: 4273\n"
     ]
    }
   ],
   "source": [
    "# #Total number of Normal Cases\n",
    "print(\"Total number of Normal cases:\",\n",
    "      len(os.listdir(test_normal))+\n",
    "      len(os.listdir(train_normal))+\n",
    "      len(os.listdir(val_normal)))\n",
    "\n",
    "#Total number of Pneumonia Cases\n",
    "print(\"Total number of Pneumonia cases:\",\n",
    "      len(os.listdir(test_pneumonia))+\n",
    "      len(os.listdir(train_pneumonia))+\n",
    "      len(os.listdir(val_pneumonia)))"
   ]
  },
  {
   "cell_type": "markdown",
   "metadata": {},
   "source": [
    "# PREPROCESSING"
   ]
  },
  {
   "cell_type": "code",
   "execution_count": 34,
   "metadata": {},
   "outputs": [
    {
     "ename": "AttributeError",
     "evalue": "'str' object has no attribute 'train_dir'",
     "output_type": "error",
     "traceback": [
      "\u001b[1;31m---------------------------------------------------------------------------\u001b[0m",
      "\u001b[1;31mAttributeError\u001b[0m                            Traceback (most recent call last)",
      "\u001b[1;32m<ipython-input-34-c54d5e55495e>\u001b[0m in \u001b[0;36m<module>\u001b[1;34m\u001b[0m\n\u001b[0;32m      1\u001b[0m \u001b[1;31m# Sh\u001b[0m\u001b[1;33m\u001b[0m\u001b[1;33m\u001b[0m\u001b[1;33m\u001b[0m\u001b[0m\n\u001b[1;32m----> 2\u001b[1;33m \u001b[0mprint\u001b[0m\u001b[1;33m(\u001b[0m\u001b[0mmain_dir\u001b[0m\u001b[1;33m.\u001b[0m\u001b[0mtrain_dir\u001b[0m\u001b[1;33m.\u001b[0m\u001b[0mshape\u001b[0m\u001b[1;33m,\u001b[0m \u001b[0mmain_dir\u001b[0m\u001b[1;33m.\u001b[0m\u001b[0mtest_dir\u001b[0m\u001b[1;33m.\u001b[0m\u001b[0mshape\u001b[0m\u001b[1;33m)\u001b[0m\u001b[1;33m\u001b[0m\u001b[1;33m\u001b[0m\u001b[0m\n\u001b[0m",
      "\u001b[1;31mAttributeError\u001b[0m: 'str' object has no attribute 'train_dir'"
     ]
    }
   ],
   "source": [
    "# Shape\n",
    "print(main_dir.train_dir.shape, main_dir.test_dir.shape)"
   ]
  },
  {
   "cell_type": "code",
   "execution_count": 39,
   "metadata": {},
   "outputs": [
    {
     "ename": "AttributeError",
     "evalue": "'str' object has no attribute 'train_path'",
     "output_type": "error",
     "traceback": [
      "\u001b[1;31m---------------------------------------------------------------------------\u001b[0m",
      "\u001b[1;31mAttributeError\u001b[0m                            Traceback (most recent call last)",
      "\u001b[1;32m<ipython-input-39-506791b8c06c>\u001b[0m in \u001b[0;36m<module>\u001b[1;34m\u001b[0m\n\u001b[0;32m      5\u001b[0m     \u001b[0mj\u001b[0m \u001b[1;33m=\u001b[0m \u001b[0mn\u001b[0m\u001b[1;33m%\u001b[0m\u001b[1;36m5\u001b[0m\u001b[1;33m\u001b[0m\u001b[1;33m\u001b[0m\u001b[0m\n\u001b[0;32m      6\u001b[0m     \u001b[0max\u001b[0m \u001b[1;33m=\u001b[0m \u001b[0maxes\u001b[0m\u001b[1;33m[\u001b[0m\u001b[0mi\u001b[0m\u001b[1;33m]\u001b[0m\u001b[1;33m[\u001b[0m\u001b[0mj\u001b[0m\u001b[1;33m]\u001b[0m\u001b[1;33m\u001b[0m\u001b[1;33m\u001b[0m\u001b[0m\n\u001b[1;32m----> 7\u001b[1;33m     \u001b[0max\u001b[0m\u001b[1;33m.\u001b[0m\u001b[0mimshow\u001b[0m\u001b[1;33m(\u001b[0m\u001b[0mhome_path\u001b[0m\u001b[1;33m.\u001b[0m\u001b[0mtrain_path\u001b[0m\u001b[1;33m[\u001b[0m\u001b[0mn\u001b[0m\u001b[1;33m]\u001b[0m\u001b[1;33m,\u001b[0m \u001b[0mcmap\u001b[0m\u001b[1;33m=\u001b[0m\u001b[0mplt\u001b[0m\u001b[1;33m.\u001b[0m\u001b[0mcm\u001b[0m\u001b[1;33m.\u001b[0m\u001b[0mgray\u001b[0m\u001b[1;33m)\u001b[0m\u001b[1;33m\u001b[0m\u001b[1;33m\u001b[0m\u001b[0m\n\u001b[0m\u001b[0;32m      8\u001b[0m \u001b[0mplt\u001b[0m\u001b[1;33m.\u001b[0m\u001b[0mtitle\u001b[0m\u001b[1;33m(\u001b[0m\u001b[1;34m'First 10 in Training'\u001b[0m\u001b[1;33m)\u001b[0m\u001b[1;33m;\u001b[0m\u001b[1;33m\u001b[0m\u001b[1;33m\u001b[0m\u001b[0m\n",
      "\u001b[1;31mAttributeError\u001b[0m: 'str' object has no attribute 'train_path'"
     ]
    },
    {
     "data": {
      "image/png": "[encoded data removed]",
      "text/plain": [
       "<Figure size 720x720 with 20 Axes>"
      ]
     },
     "metadata": {
      "needs_background": "light"
     },
     "output_type": "display_data"
    }
   ],
   "source": [
    "# First 10 Images in Training\n",
    "fig, axes = plt.subplots(nrows=4, ncols=5, figsize=(10,10))\n",
    "for n in range(10):\n",
    "    i = n //5\n",
    "    j = n%5\n",
    "    ax = axes[i][j]\n",
    "    ax.imshow(home_path.train_path[n], cmap=plt.cm.gray)\n",
    "plt.title('First 10 in Training');"
   ]
  },
  {
   "cell_type": "code",
   "execution_count": 23,
   "metadata": {},
   "outputs": [
    {
     "ename": "AttributeError",
     "evalue": "module 'keras' has no attribute 'preprocessing'",
     "output_type": "error",
     "traceback": [
      "\u001b[1;31m---------------------------------------------------------------------------\u001b[0m",
      "\u001b[1;31mAttributeError\u001b[0m                            Traceback (most recent call last)",
      "\u001b[1;32m<ipython-input-23-e85904adc023>\u001b[0m in \u001b[0;36m<module>\u001b[1;34m\u001b[0m\n\u001b[1;32m----> 1\u001b[1;33m dataset = keras.preprocessing.image_dataset_from_directory(\n\u001b[0m\u001b[0;32m      2\u001b[0m     '../Image-Classification/chest_xray/')\n\u001b[0;32m      3\u001b[0m \u001b[1;33m\u001b[0m\u001b[0m\n",
      "\u001b[1;31mAttributeError\u001b[0m: module 'keras' has no attribute 'preprocessing'"
     ]
    }
   ],
   "source": [
    "dataset = keras.preprocessing.image_dataset_from_directory(\n",
    "    '../Image-Classification/chest_xray/')\n",
    "\n"
   ]
  },
  {
   "cell_type": "code",
   "execution_count": null,
   "metadata": {},
   "outputs": [],
   "source": [
    "print(X_train.shape)\n",
    "X_test.shape"
   ]
  },
  {
   "cell_type": "code",
   "execution_count": null,
   "metadata": {},
   "outputs": [],
   "source": [
    "#Normalizing Image Data\n",
    "train_dir = ImageDataGenerator(rescale=1./255,\n",
    "                              zoom_range=0.3, vertical_flip=True)\n",
    "test_dir = ImageDataGenerator(rescale=1./255)"
   ]
  },
  {
   "cell_type": "code",
   "execution_count": null,
   "metadata": {},
   "outputs": [],
   "source": [
    "img_dims = 150\n",
    "epochs = 10\n",
    "batch_size = 64"
   ]
  },
  {
   "cell_type": "code",
   "execution_count": null,
   "metadata": {},
   "outputs": [],
   "source": []
  }
 ],
 "metadata": {
  "kernelspec": {
   "display_name": "Python [conda env:learn-env] *",
   "language": "python",
   "name": "conda-env-learn-env-py"
  },
  "language_info": {
   "codemirror_mode": {
    "name": "ipython",
    "version": 3
   },
   "file_extension": ".py",
   "mimetype": "text/x-python",
   "name": "python",
   "nbconvert_exporter": "python",
   "pygments_lexer": "ipython3",
   "version": "3.6.9"
  },
  "toc": {
   "base_numbering": 1,
   "nav_menu": {},
   "number_sections": true,
   "sideBar": true,
   "skip_h1_title": false,
   "title_cell": "Table of Contents",
   "title_sidebar": "Contents",
   "toc_cell": false,
   "toc_position": {},
   "toc_section_display": true,
   "toc_window_display": false
  }
 },
 "nbformat": 4,
 "nbformat_minor": 2
}
