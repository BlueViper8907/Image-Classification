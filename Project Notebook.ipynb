{
 "cells": [
  {
   "cell_type": "markdown",
   "metadata": {},
   "source": [
    "## Table Of Contents\n",
    "<font size=3rem>\n",
    "    \n",
    "0 -**[ INTRO](#INTRODUCTION)<br>**\n",
    "1 -**[ OBTAIN](#OBTAIN)**<br>\n",
    "2 -**[ PREPROCESSING](#PREPROCESSING)**<br>\n",
    "4 -**[ MODEL](#MODEL)**<br>\n",
    "5 -**[ INTERPRET](#INTERPRET)**<br>\n",
    "6 -**[ CONCLUSIONS & RECCOMENDATIONS](#Conclusions-&-Recommendations)<br>**\n",
    "</font>\n",
    "___"
   ]
  },
  {
   "cell_type": "markdown",
   "metadata": {},
   "source": [
    "# INTRODUCTION"
   ]
  },
  {
   "cell_type": "markdown",
   "metadata": {},
   "source": [
    "- Student: Cody Freese\n",
    "- Pace: Self Paced\n",
    "- Jeff Herman"
   ]
  },
  {
   "cell_type": "markdown",
   "metadata": {},
   "source": [
    "- Pneumonia Chest Xray Image Classification\n",
    "    - Objective\n",
    "        - First I need to decide on:\n",
    "            - Accuracy\n",
    "            - Precision\n",
    "            - Recall\n",
    "            - F1 Score\n",
    "        - Priority\n",
    "            - (1) Do not want to tell a sick person they are healthy\n",
    "            \n",
    "            - (2) Accurately identify pneumonia\n",
    "            - (3) Tell healthy person they are sick"
   ]
  },
  {
   "cell_type": "markdown",
   "metadata": {},
   "source": [
    "## Import Tools"
   ]
  },
  {
   "cell_type": "code",
   "execution_count": 2,
   "metadata": {
    "scrolled": true
   },
   "outputs": [],
   "source": [
    "import pandas as pd\n",
    "import os\n",
    "import tensorflow as tf\n",
    "from tensorflow import keras\n",
    "import matplotlib.pyplot as plt\n",
    "%matplotlib inline"
   ]
  },
  {
   "cell_type": "markdown",
   "metadata": {},
   "source": [
    "# OBTAIN"
   ]
  },
  {
   "cell_type": "code",
   "execution_count": 13,
   "metadata": {},
   "outputs": [],
   "source": [
    "#Home Directory\n",
    "home_path = r'C:\\Users\\c_fre\\Learn.co\\Module_4_Project\\Image-Classification\\chest_xray'\n",
    "\n",
    "#Train Directory\n",
    "train_path = os.path.join(home_path,'train')\n",
    "\n",
    "#Validation Directory\n",
    "val_path = os.path.join(home_path,'val')\n",
    "\n",
    "#Test Directory\n",
    "test_path = os.path.join(home_path,'test')\n",
    "\n",
    "#Train Subdirectories\n",
    "normal_train_path = os.path.join(train_path,'NORMAL')\n",
    "\n",
    "pneumonia_train_path = os.path.join(train_path,'PNEUMONIA')\n",
    "\n",
    "#Validation Subdirectories\n",
    "normal_val_path = os.path.join(val_path,'NORMAL')\n",
    "\n",
    "pneumonia_val_path = os.path.join(val_path,'PNEUMONIA')\n",
    "\n",
    "#Test Subdirectories\n",
    "\n",
    "normal_test_path = os.path.join(test_path,'NORMAL')\n",
    "\n",
    "pneumonia_test_path = os.path.join(test_path,'PNEUMONIA')"
   ]
  },
  {
   "cell_type": "code",
   "execution_count": 16,
   "metadata": {},
   "outputs": [
    {
     "name": "stdout",
     "output_type": "stream",
     "text": [
      "Directory Contents: ['test', 'train', 'val']\n",
      "train Contents: ['NORMAL', 'PNEUMONIA']\n",
      "val Contents: ['NORMAL', 'PNEUMONIA']\n",
      "test Contents: ['NORMAL', 'PNEUMONIA']\n"
     ]
    }
   ],
   "source": [
    "#Observe Contents\n",
    "print('Directory Contents:',os.listdir(home_path))\n",
    "print('train Contents:',os.listdir(train_path))\n",
    "print('val Contents:',os.listdir(val_path))\n",
    "print('test Contents:',os.listdir(test_path))"
   ]
  },
  {
   "cell_type": "code",
   "execution_count": 17,
   "metadata": {},
   "outputs": [
    {
     "name": "stdout",
     "output_type": "stream",
     "text": [
      "Number of cases in Training: 5216\n",
      "Number of Pneumonia cases in Training: 3875\n",
      "Number of Normal cases in Training: 1341\n"
     ]
    }
   ],
   "source": [
    "#Cases in Training Sets\n",
    "print(\"Number of cases in Training:\",len(os.listdir(normal_train_path)) +len(os.listdir(pneumonia_train_path)))\n",
    "\n",
    "print(\"Number of Pneumonia cases in Training:\",len(os.listdir(pneumonia_train_path)))\n",
    "\n",
    "print(\"Number of Normal cases in Training:\",len(os.listdir(normal_train_path)))"
   ]
  },
  {
   "cell_type": "code",
   "execution_count": 18,
   "metadata": {},
   "outputs": [
    {
     "name": "stdout",
     "output_type": "stream",
     "text": [
      "Number of cases in Validation: 16\n",
      "Number of Pneumonia cases in Validation: 8\n",
      "Number of Normal cases in Validation: 8\n"
     ]
    }
   ],
   "source": [
    "# Cases in Validation Sets\n",
    "print(\"Number of cases in Validation:\",len(os.listdir(normal_val_path)) +len(os.listdir(pneumonia_val_path)))\n",
    "\n",
    "print(\"Number of Pneumonia cases in Validation:\",len(os.listdir(pneumonia_val_path)))\n",
    "\n",
    "print(\"Number of Normal cases in Validation:\",len(os.listdir(normal_val_path)))"
   ]
  },
  {
   "cell_type": "code",
   "execution_count": 20,
   "metadata": {},
   "outputs": [
    {
     "name": "stdout",
     "output_type": "stream",
     "text": [
      "Number of cases in Test: 624\n",
      "Number of Pneumonia cases in Test: 390\n",
      "Number of Normal cases in Test: 234\n"
     ]
    }
   ],
   "source": [
    "#Cases in Test Sets\n",
    "print(\"Number of cases in Test:\",len(os.listdir(normal_test_path)) +len(os.listdir(pneumonia_test_path)))\n",
    "\n",
    "print(\"Number of Pneumonia cases in Test:\",len(os.listdir(pneumonia_test_path)))\n",
    "\n",
    "print(\"Number of Normal cases in Test:\",len(os.listdir(normal_test_path)))"
   ]
  },
  {
   "cell_type": "code",
   "execution_count": 21,
   "metadata": {},
   "outputs": [
    {
     "name": "stdout",
     "output_type": "stream",
     "text": [
      "Total number of Normal cases: 1583\n",
      "Total number of Pneumonia cases: 4273\n"
     ]
    }
   ],
   "source": [
    "# #Total number of Normal Cases\n",
    "print(\"Total number of Normal cases:\",\n",
    "      len(os.listdir(normal_test_path))+\n",
    "      len(os.listdir(normal_train_path))+\n",
    "      len(os.listdir(normal_val_path)))\n",
    "\n",
    "#Total number of Pneumonia Cases\n",
    "print(\"Total number of Pneumonia cases:\",\n",
    "      len(os.listdir(pneumonia_test_path))+\n",
    "      len(os.listdir(pneumonia_train_path))+\n",
    "      len(os.listdir(pneumonia_val_path)))"
   ]
  },
  {
   "cell_type": "markdown",
   "metadata": {},
   "source": [
    "# PREPROCESSING"
   ]
  },
  {
   "cell_type": "code",
   "execution_count": 50,
   "metadata": {
    "scrolled": true
   },
   "outputs": [
    {
     "name": "stdout",
     "output_type": "stream",
     "text": [
      "Found 5216 files belonging to 2 classes.\n",
      "Found 16 files belonging to 2 classes.\n",
      "Found 624 files belonging to 2 classes.\n"
     ]
    }
   ],
   "source": [
    "train_dataset = keras.preprocessing.image_dataset_from_directory(train_path,\n",
    "                                                                labels='inferred',\n",
    "                                                                label_mode='binary',\n",
    "                                                                smart_resize=True)\n",
    "\n",
    "val_dataset = keras.preprocessing.image_dataset_from_directory(val_path,\n",
    "                                                               labels='inferred',\n",
    "                                                               label_mode='binary',\n",
    "                                                               smart_resize=True)\n",
    "\n",
    "test_dataset = keras.preprocessing.image_dataset_from_directory(test_path,\n",
    "                                                               labels='inferred',\n",
    "                                                               label_mode='binary',\n",
    "                                                               smart_resize=True)"
   ]
  },
  {
   "cell_type": "code",
   "execution_count": 52,
   "metadata": {},
   "outputs": [
    {
     "name": "stdout",
     "output_type": "stream",
     "text": [
      "<BatchDataset shapes: ((None, 256, 256, 3), (None, 1)), types: (tf.float32, tf.float32)>\n",
      "<BatchDataset shapes: ((None, 256, 256, 3), (None, 1)), types: (tf.float32, tf.float32)>\n",
      "<BatchDataset shapes: ((None, 256, 256, 3), (None, 1)), types: (tf.float32, tf.float32)>\n"
     ]
    }
   ],
   "source": [
    "print(train_dataset)\n",
    "print(val_dataset)\n",
    "print(test_dataset)"
   ]
  },
  {
   "cell_type": "code",
   "execution_count": null,
   "metadata": {},
   "outputs": [],
   "source": []
  }
 ],
 "metadata": {
  "kernelspec": {
   "display_name": "Python [conda env:learn-env] *",
   "language": "python",
   "name": "conda-env-learn-env-py"
  },
  "language_info": {
   "codemirror_mode": {
    "name": "ipython",
    "version": 3
   },
   "file_extension": ".py",
   "mimetype": "text/x-python",
   "name": "python",
   "nbconvert_exporter": "python",
   "pygments_lexer": "ipython3",
   "version": "3.6.9"
  },
  "toc": {
   "base_numbering": 1,
   "nav_menu": {},
   "number_sections": true,
   "sideBar": true,
   "skip_h1_title": false,
   "title_cell": "Table of Contents",
   "title_sidebar": "Contents",
   "toc_cell": false,
   "toc_position": {},
   "toc_section_display": true,
   "toc_window_display": false
  }
 },
 "nbformat": 4,
 "nbformat_minor": 2
}
