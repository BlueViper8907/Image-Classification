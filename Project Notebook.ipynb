{
 "cells": [
  {
   "cell_type": "code",
   "execution_count": 1,
   "metadata": {},
   "outputs": [
    {
     "name": "stderr",
     "output_type": "stream",
     "text": [
      "Using TensorFlow backend.\n"
     ]
    }
   ],
   "source": [
    "import numpy as np\n",
    "import pandas as pd\n",
    "import matplotlib.pyplot as plt\n",
    "%matplotlib inline\n",
    "import os\n",
    "import cv2\n",
    "\n",
    "import tensorflow as tf\n",
    "from tensorflow import keras\n",
    "from keras.preprocessing.image import ImageDataGenerator, load_img, array_to_img"
   ]
  },
  {
   "cell_type": "code",
   "execution_count": 2,
   "metadata": {},
   "outputs": [
    {
     "name": "stdout",
     "output_type": "stream",
     "text": [
      "Directory Contents: ['test', 'train', 'val']\n",
      "train Contents: ['NORMAL', 'PNEUMONIA']\n",
      "val Contents: ['NORMAL', 'PNEUMONIA']\n",
      "test Contents: ['NORMAL', 'PNEUMONIA']\n"
     ]
    }
   ],
   "source": [
    "#Create Pathway to access data\n",
    "main_dir = '../Image-Classification/chest_xray/'\n",
    "train_dir = main_dir + \"train/\"\n",
    "val_dir = main_dir + \"val/\"\n",
    "test_dir = main_dir + \"test/\"\n",
    "\n",
    "#Observe Contents\n",
    "print('Directory Contents:',os.listdir(main_dir))\n",
    "print('train Contents:',os.listdir(train_dir))\n",
    "print('val Contents:',os.listdir(val_dir))\n",
    "print('test Contents:',os.listdir(val_dir))"
   ]
  },
  {
   "cell_type": "code",
   "execution_count": 3,
   "metadata": {},
   "outputs": [
    {
     "name": "stdout",
     "output_type": "stream",
     "text": [
      "Number of cases in Training: 5216\n",
      "Number of Pneumonia cases in Training: 3875\n",
      "Number of Normal cases in Training: 1341\n"
     ]
    }
   ],
   "source": [
    "#Train dataset for Normal and Pneumonia\n",
    "train_normal = train_dir + 'Normal/'\n",
    "train_pneumonia = train_dir + 'Pneumonia/'\n",
    "\n",
    "print(\"Number of cases in Training:\",len(os.listdir(train_normal)) +len(os.listdir(train_pneumonia)))\n",
    "\n",
    "print(\"Number of Pneumonia cases in Training:\",len(os.listdir(train_pneumonia)))\n",
    "\n",
    "print(\"Number of Normal cases in Training:\",len(os.listdir(train_normal)))"
   ]
  },
  {
   "cell_type": "code",
   "execution_count": 4,
   "metadata": {},
   "outputs": [
    {
     "name": "stdout",
     "output_type": "stream",
     "text": [
      "Number of cases in Validation: 16\n",
      "Number of Pneumonia cases in Validation: 8\n",
      "Number of Normal cases in Validation: 8\n"
     ]
    }
   ],
   "source": [
    "#Validation dataset for Normal and Pneumonia\n",
    "val_normal = val_dir + 'Normal/'\n",
    "val_pneumonia = val_dir + 'Pneumonia/'\n",
    "\n",
    "print(\"Number of cases in Validation:\",len(os.listdir(val_normal)) +len(os.listdir(val_pneumonia)))\n",
    "\n",
    "print(\"Number of Pneumonia cases in Validation:\",len(os.listdir(val_pneumonia)))\n",
    "\n",
    "print(\"Number of Normal cases in Validation:\",len(os.listdir(val_normal)))"
   ]
  },
  {
   "cell_type": "code",
   "execution_count": 5,
   "metadata": {},
   "outputs": [
    {
     "name": "stdout",
     "output_type": "stream",
     "text": [
      "Number of cases in Test: 624\n",
      "Number of Pneumonia cases in Test: 390\n",
      "Number of Normal cases in Test: 234\n"
     ]
    }
   ],
   "source": [
    "#Test dataset for Normal and Pneumonia\n",
    "test_normal = test_dir + 'Normal/'\n",
    "test_pneumonia = test_dir + 'Pneumonia/'\n",
    "\n",
    "print(\"Number of cases in Test:\",len(os.listdir(test_normal)) +len(os.listdir(test_pneumonia)))\n",
    "\n",
    "print(\"Number of Pneumonia cases in Test:\",len(os.listdir(test_pneumonia)))\n",
    "\n",
    "print(\"Number of Normal cases in Test:\",len(os.listdir(test_normal)))"
   ]
  },
  {
   "cell_type": "code",
   "execution_count": 6,
   "metadata": {},
   "outputs": [
    {
     "name": "stdout",
     "output_type": "stream",
     "text": [
      "Total number of Normal cases: 1583\n",
      "Total number of Pneumonia cases: 4273\n"
     ]
    }
   ],
   "source": [
    "#Total number of Normal Cases\n",
    "print(\"Total number of Normal cases:\",\n",
    "      len(os.listdir(test_normal))+\n",
    "      len(os.listdir(train_normal))+\n",
    "      len(os.listdir(val_normal)))\n",
    "\n",
    "#Total number of Pneumonia Cases\n",
    "print(\"Total number of Pneumonia cases:\",\n",
    "      len(os.listdir(test_pneumonia))+\n",
    "      len(os.listdir(train_pneumonia))+\n",
    "      len(os.listdir(val_pneumonia)))"
   ]
  },
  {
   "cell_type": "code",
   "execution_count": 9,
   "metadata": {},
   "outputs": [
    {
     "name": "stdout",
     "output_type": "stream",
     "text": [
      "Found 5856 files belonging to 3 classes.\n"
     ]
    }
   ],
   "source": [
    "dataset = keras.preprocessing.image_dataset_from_directory(\n",
    "    '../Image-Classification/chest_xray/')\n",
    "\n"
   ]
  },
  {
   "cell_type": "code",
   "execution_count": null,
   "metadata": {},
   "outputs": [],
   "source": []
  }
 ],
 "metadata": {
  "kernelspec": {
   "display_name": "Python [conda env:learn-env] *",
   "language": "python",
   "name": "conda-env-learn-env-py"
  },
  "language_info": {
   "codemirror_mode": {
    "name": "ipython",
    "version": 3
   },
   "file_extension": ".py",
   "mimetype": "text/x-python",
   "name": "python",
   "nbconvert_exporter": "python",
   "pygments_lexer": "ipython3",
   "version": "3.6.9"
  },
  "toc": {
   "base_numbering": 1,
   "nav_menu": {},
   "number_sections": true,
   "sideBar": true,
   "skip_h1_title": false,
   "title_cell": "Table of Contents",
   "title_sidebar": "Contents",
   "toc_cell": false,
   "toc_position": {},
   "toc_section_display": true,
   "toc_window_display": false
  }
 },
 "nbformat": 4,
 "nbformat_minor": 2
}
